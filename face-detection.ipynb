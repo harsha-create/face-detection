{
 "cells": [
  {
   "cell_type": "code",
   "execution_count": 1,
   "metadata": {},
   "outputs": [],
   "source": [
    "import cv2\n",
    "from sklearn.cluster import KMeans\n",
    "import matplotlib.pyplot as plt\n",
    "import numpy as np\n",
    "from collections import Counter\n",
    "from skimage.color import rgb2lab, deltaE_cie76\n",
    "import os\n",
    "\n",
    "%matplotlib inline"
   ]
  },
  {
   "cell_type": "code",
   "execution_count": 2,
   "metadata": {},
   "outputs": [
    {
     "name": "stdout",
     "output_type": "stream",
     "text": [
      "<class 'numpy.ndarray'>\n",
      "[[2392 1419   31   31]\n",
      " [2024  870   62   62]\n",
      " [2709 1473   49   49]\n",
      " [1857  900   91   91]\n",
      " [1558 1388   68   68]\n",
      " [2247 1116  101  101]\n",
      " [2256  629  116  116]\n",
      " [1322 1230  110  110]\n",
      " [2074 1193  126  126]\n",
      " [2417 1348   86   86]\n",
      " [2227 1423   66   66]\n",
      " [2194 1726   72   72]\n",
      " [1267 1679   74   74]\n",
      " [2248 1375   29   29]\n",
      " [1247  159   42   42]\n",
      " [1691  582   48   48]\n",
      " [2163 1641  112  112]\n",
      " [1908 1486   67   67]\n",
      " [1243 1560   63   63]\n",
      " [2171 1941   36   36]\n",
      " [2599 1204   80   80]\n",
      " [1602  993   74   74]\n",
      " [1742  587  112  112]\n",
      " [1558  678   48   48]\n",
      " [2100  443  142  142]\n",
      " [1327  424  173  173]\n",
      " [2611 1256   84   84]\n",
      " [1438  668   56   56]\n",
      " [1148  694   82   82]\n",
      " [2244 1792   56   56]\n",
      " [1367  749   73   73]\n",
      " [2733  407   53   53]\n",
      " [1365  492  103  103]\n",
      " [1962  496   96   96]\n",
      " [2213 1313   61   61]]\n",
      "<class 'numpy.ndarray'>\n",
      "[[2235 1435   23   23]\n",
      " [1766 1253   27   27]\n",
      " [1584  584   52   52]\n",
      " [2428 1368   22   22]\n",
      " [2464 1370   24   24]\n",
      " [2259 1440   22   22]\n",
      " [1904  920   26   26]\n",
      " [2101 1230   25   25]\n",
      " [2144 1232   24   24]\n",
      " [2320  663   30   30]\n",
      " [2206 1743   22   22]\n",
      " [2276  664   23   23]\n",
      " [1386 1258   22   22]\n",
      " [1337 1256   37   37]\n",
      " [2425  344   53   53]\n",
      " [2738  390   25   25]\n",
      " [2703  135   23   23]\n",
      " [1637 1584   22   22]\n",
      " [2120  480   39   39]\n",
      " [2177  487   35   35]\n",
      " [1960  521   30   30]]\n",
      "number of faces: 35\n",
      "number of eyes: 21\n"
     ]
    },
    {
     "data": {
      "text/plain": [
       "-1"
      ]
     },
     "execution_count": 2,
     "metadata": {},
     "output_type": "execute_result"
    }
   ],
   "source": [
    "cascade=cv2.CascadeClassifier('C:\\\\Users\\\\harsh\\\\frontalface_default.xml')\n",
    "cascad=cv2.CascadeClassifier('C:\\\\Users\\\\harsh\\\\eye_detect.xml')\n",
    "cascades=cv2.CascadeClassifier('C:\\\\Users\\\\harsh\\\\car_detect.xml')\n",
    "img=cv2.imread('C:\\\\Users\\\\harsh\\\\OneDrive\\\\Pictures\\\\avengers.jpg')\n",
    "gray_img=cv2.cvtColor(img,cv2.COLOR_BGR2GRAY)\n",
    "faces=cascade.detectMultiScale(gray_img,scaleFactor = 1.05,\n",
    "                               minNeighbors=5)\n",
    "print(type(faces))\n",
    "print(faces)\n",
    "\n",
    "eyes=cascad.detectMultiScale(gray_img,scaleFactor = 1.05,\n",
    "                               minNeighbors=5)\n",
    "print(type(eyes))\n",
    "print(eyes)\n",
    "count=0\n",
    "for x,y,w,h in faces:\n",
    "    img=cv2.rectangle(img,(x,y),(x+w,y+h),(255,0,0),5)\n",
    "    count=count+1\n",
    "print('number of faces:',count)\n",
    "b=0\n",
    "for x,y,w,h in eyes:\n",
    "    img=cv2.rectangle(img,(x,y),(x+w,y+h),(3,255,0),5)\n",
    "    b=b+1\n",
    "print('number of eyes:',b)\n",
    "resized=cv2.resize(img,(1200,700))\n",
    "cv2.imshow('Gray',resized)\n",
    "cv2.waitKey(0)"
   ]
  },
  {
   "cell_type": "code",
   "execution_count": null,
   "metadata": {},
   "outputs": [],
   "source": []
  }
 ],
 "metadata": {
  "kernelspec": {
   "display_name": "Python 3",
   "language": "python",
   "name": "python3"
  },
  "language_info": {
   "codemirror_mode": {
    "name": "ipython",
    "version": 3
   },
   "file_extension": ".py",
   "mimetype": "text/x-python",
   "name": "python",
   "nbconvert_exporter": "python",
   "pygments_lexer": "ipython3",
   "version": "3.8.3"
  }
 },
 "nbformat": 4,
 "nbformat_minor": 4
}
